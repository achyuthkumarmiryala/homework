{
 "cells": [
  {
   "cell_type": "code",
   "execution_count": 1,
   "id": "c4285823-2bc6-4ad9-bdf0-93ca2b02490c",
   "metadata": {},
   "outputs": [],
   "source": [
    "import requests \n",
    "\n",
    "docs_url = 'https://github.com/DataTalksClub/llm-zoomcamp/blob/main/01-intro/documents.json?raw=1'\n",
    "docs_response = requests.get(docs_url)\n",
    "documents_raw = docs_response.json()\n",
    "\n",
    "documents = []\n",
    "\n",
    "for course in documents_raw:\n",
    "    course_name = course['course']\n",
    "\n",
    "    for doc in course['documents']:\n",
    "        doc['course'] = course_name\n",
    "        documents.append(doc)"
   ]
  },
  {
   "cell_type": "code",
   "execution_count": 2,
   "id": "31a6318a-63d6-415b-827d-109a6d99f7f1",
   "metadata": {},
   "outputs": [],
   "source": [
    "from elasticsearch import Elasticsearch"
   ]
  },
  {
   "cell_type": "code",
   "execution_count": 3,
   "id": "7164a9a1-1c73-446f-814e-b894b85ac09a",
   "metadata": {},
   "outputs": [
    {
     "data": {
      "text/plain": [
       "ObjectApiResponse({'name': '66fdaa2378e5', 'cluster_name': 'docker-cluster', 'cluster_uuid': 'YvL_dWOXSmKijcFbmfCdwQ', 'version': {'number': '8.17.6', 'build_flavor': 'default', 'build_type': 'docker', 'build_hash': 'dbcbbbd0bc4924cfeb28929dc05d82d662c527b7', 'build_date': '2025-04-30T14:07:12.231372970Z', 'build_snapshot': False, 'lucene_version': '9.12.0', 'minimum_wire_compatibility_version': '7.17.0', 'minimum_index_compatibility_version': '7.0.0'}, 'tagline': 'You Know, for Search'})"
      ]
     },
     "execution_count": 3,
     "metadata": {},
     "output_type": "execute_result"
    }
   ],
   "source": [
    "es = Elasticsearch('http://127.0.0.1:9200/')\n",
    "es.info()\n"
   ]
  },
  {
   "cell_type": "code",
   "execution_count": 4,
   "id": "72806c87-9151-4ce2-a9d8-f55b93ff07fa",
   "metadata": {},
   "outputs": [
    {
     "name": "stdout",
     "output_type": "stream",
     "text": [
      "Top Question: How do I debug a docker container?\n",
      "Score: 44.51\n"
     ]
    }
   ],
   "source": [
    "query = {\n",
    "    \"query\": {\n",
    "        \"multi_match\": {\n",
    "            \"query\": \"How do execute a command on a Kubernetes pod?\",\n",
    "            \"fields\": [\"question^4\", \"text\"],\n",
    "            \"type\": \"best_fields\"\n",
    "        }\n",
    "    }\n",
    "}\n",
    "\n",
    "response = es.search(index=\"faq\", body=query)\n",
    "\n",
    "top_hit = response[\"hits\"][\"hits\"][0]\n",
    "print(\"Top Question:\", top_hit[\"_source\"][\"question\"])\n",
    "print(\"Score:\", round(top_hit[\"_score\"], 2))\n"
   ]
  },
  {
   "cell_type": "code",
   "execution_count": 5,
   "id": "78ca0118-dc90-46bd-b8f8-14f0cef16d4c",
   "metadata": {},
   "outputs": [
    {
     "data": {
      "text/plain": [
       "{'size': 3,\n",
       " 'query': {'bool': {'must': {'multi_match': {'query': 'How do copy a file to a Docker container?',\n",
       "     'fields': ['question^4', 'text'],\n",
       "     'type': 'best_fields'}},\n",
       "   'filter': {'term': {'course.keyword': 'machine-learning-zoomcamp'}}}}}"
      ]
     },
     "execution_count": 5,
     "metadata": {},
     "output_type": "execute_result"
    }
   ],
   "source": [
    "{\n",
    "  \"size\": 3,\n",
    "  \"query\": {\n",
    "    \"bool\": {\n",
    "      \"must\": {\n",
    "        \"multi_match\": {\n",
    "          \"query\": \"How do copy a file to a Docker container?\",\n",
    "          \"fields\": [\"question^4\", \"text\"],\n",
    "          \"type\": \"best_fields\"\n",
    "        }\n",
    "      },\n",
    "      \"filter\": {\n",
    "        \"term\": {\n",
    "          \"course.keyword\": \"machine-learning-zoomcamp\"\n",
    "        }\n",
    "      }\n",
    "    }\n",
    "  }\n",
    "}\n"
   ]
  },
  {
   "cell_type": "code",
   "execution_count": 6,
   "id": "ac953bc7-94df-47ad-82a2-fbc260392326",
   "metadata": {},
   "outputs": [
    {
     "name": "stdout",
     "output_type": "stream",
     "text": [
      "Top 3 questions:\n",
      "\n",
      "3rd question: Less than 3 results\n"
     ]
    }
   ],
   "source": [
    "from elasticsearch import Elasticsearch\n",
    "\n",
    "# Connect to local ElasticSearch\n",
    "es = Elasticsearch(\"http://localhost:9200\")\n",
    "\n",
    "# Your index name (use your actual index)\n",
    "index_name = \"faq\"\n",
    "\n",
    "# Construct query\n",
    "query = {\n",
    "    \"size\": 3,\n",
    "    \"query\": {\n",
    "        \"bool\": {\n",
    "            \"must\": {\n",
    "                \"multi_match\": {\n",
    "                    \"query\": \"How do copy a file to a Docker container?\",\n",
    "                    \"fields\": [\"question^4\", \"text\"],\n",
    "                    \"type\": \"best_fields\"\n",
    "                }\n",
    "            },\n",
    "            \"filter\": {\n",
    "                \"term\": {\n",
    "                    \"course.keyword\": \"machine-learning-zoomcamp\"\n",
    "                }\n",
    "            }\n",
    "        }\n",
    "    }\n",
    "}\n",
    "\n",
    "# Run the search\n",
    "response = es.search(index=index_name, body=query)\n",
    "\n",
    "# Extract the top 3 questions\n",
    "questions = [hit['_source']['question'] for hit in response['hits']['hits']]\n",
    "\n",
    "print(\"Top 3 questions:\")\n",
    "for i, q in enumerate(questions, start=1):\n",
    "    print(f\"{i}. {q}\")\n",
    "\n",
    "# To get the 3rd question:\n",
    "print(\"\\n3rd question:\", questions[2] if len(questions) >= 3 else \"Less than 3 results\")\n"
   ]
  },
  {
   "cell_type": "code",
   "execution_count": 14,
   "id": "8f86129e-4ea0-4e6a-bd48-56ee74fbeae1",
   "metadata": {},
   "outputs": [
    {
     "name": "stdout",
     "output_type": "stream",
     "text": [
      "Total Courses: 3\n",
      "data-engineering-zoomcamp -> 435 docs\n",
      "machine-learning-zoomcamp -> 375 docs\n",
      "mlops-zoomcamp -> 138 docs\n"
     ]
    }
   ],
   "source": [
    "import requests\n",
    "\n",
    "docs_url = 'https://raw.githubusercontent.com/DataTalksClub/llm-zoomcamp/main/01-intro/documents.json'\n",
    "res = requests.get(docs_url)\n",
    "docs_raw = res.json()\n",
    "\n",
    "# Check how many top-level courses\n",
    "print(\"Total Courses:\", len(docs_raw))\n",
    "\n",
    "# List all course names\n",
    "for course in docs_raw:\n",
    "    print(course['course'], \"->\", len(course['documents']), \"docs\")\n"
   ]
  },
  {
   "cell_type": "code",
   "execution_count": 15,
   "id": "65d1472e-0b1e-4153-81e0-18ea28370f2b",
   "metadata": {},
   "outputs": [
    {
     "data": {
      "text/plain": [
       "ObjectApiResponse({'acknowledged': True, 'shards_acknowledged': True, 'index': 'faq'})"
      ]
     },
     "execution_count": 15,
     "metadata": {},
     "output_type": "execute_result"
    }
   ],
   "source": [
    "from elasticsearch import Elasticsearch\n",
    "\n",
    "es = Elasticsearch(\"http://localhost:9200\")\n",
    "\n",
    "# Delete index if it exists\n",
    "if es.indices.exists(index=\"faq\"):\n",
    "    es.indices.delete(index=\"faq\")\n",
    "\n",
    "# Define schema\n",
    "index_settings = {\n",
    "    \"settings\": {\"number_of_shards\": 1, \"number_of_replicas\": 0},\n",
    "    \"mappings\": {\n",
    "        \"properties\": {\n",
    "            \"text\": {\"type\": \"text\"},\n",
    "            \"section\": {\"type\": \"text\"},\n",
    "            \"question\": {\"type\": \"text\"},\n",
    "            \"course\": {\"type\": \"keyword\"}\n",
    "        }\n",
    "    }\n",
    "}\n",
    "\n",
    "# Recreate index\n",
    "es.indices.create(index=\"faq\", body=index_settings)\n"
   ]
  },
  {
   "cell_type": "code",
   "execution_count": 16,
   "id": "f1c46248-1a0b-44a2-bfbf-6e85f5746572",
   "metadata": {},
   "outputs": [
    {
     "data": {
      "application/vnd.jupyter.widget-view+json": {
       "model_id": "7fcc0404a0af4c0daf4f3db85bed4ad4",
       "version_major": 2,
       "version_minor": 0
      },
      "text/plain": [
       "  0%|          | 0/948 [00:00<?, ?it/s]"
      ]
     },
     "metadata": {},
     "output_type": "display_data"
    }
   ],
   "source": [
    "from tqdm.auto import tqdm\n",
    "\n",
    "# Now index all 900+ docs\n",
    "for doc in tqdm(documents):\n",
    "    es.index(index=\"faq\", document=doc)\n"
   ]
  },
  {
   "cell_type": "code",
   "execution_count": 17,
   "id": "6acb3578-2a6f-418f-8df7-35e01ab805eb",
   "metadata": {},
   "outputs": [
    {
     "name": "stdout",
     "output_type": "stream",
     "text": [
      "ML Zoomcamp Docs (in Elasticsearch): 0\n"
     ]
    }
   ],
   "source": [
    "from elasticsearch.helpers import scan\n",
    "\n",
    "docs_ml = list(scan(es, index=\"faq\", query={\n",
    "    \"query\": {\n",
    "        \"term\": {\n",
    "            \"course.keyword\": \"machine-learning-zoomcamp\"\n",
    "        }\n",
    "    }\n",
    "}))\n",
    "\n",
    "print(\"ML Zoomcamp Docs (in Elasticsearch):\", len(docs_ml))\n"
   ]
  },
  {
   "cell_type": "code",
   "execution_count": null,
   "id": "e39705c1-cbaf-45f8-b7f5-77d405fa005d",
   "metadata": {},
   "outputs": [],
   "source": []
  }
 ],
 "metadata": {
  "kernelspec": {
   "display_name": "Python 3 (ipykernel)",
   "language": "python",
   "name": "python3"
  },
  "language_info": {
   "codemirror_mode": {
    "name": "ipython",
    "version": 3
   },
   "file_extension": ".py",
   "mimetype": "text/x-python",
   "name": "python",
   "nbconvert_exporter": "python",
   "pygments_lexer": "ipython3",
   "version": "3.12.1"
  }
 },
 "nbformat": 4,
 "nbformat_minor": 5
}
